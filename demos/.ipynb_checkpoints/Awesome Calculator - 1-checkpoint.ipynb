{
 "cells": [
  {
   "cell_type": "code",
   "execution_count": 2,
   "metadata": {
    "collapsed": false,
    "slideshow": {
     "slide_type": "skip"
    }
   },
   "outputs": [],
   "source": [
    "%matplotlib inline"
   ]
  },
  {
   "cell_type": "code",
   "execution_count": null,
   "metadata": {
    "collapsed": false,
    "slideshow": {
     "slide_type": "subslide"
    }
   },
   "outputs": [],
   "source": [
    "# Create graphs from algebraic expressions\n",
    "\n",
    "from sympy import Symbol, plot\n",
    "x = Symbol('x')\n",
    "expr = input('Enter an expression in x to graph: ')\n",
    "p = plot(expr)\n"
   ]
  },
  {
   "cell_type": "code",
   "execution_count": 5,
   "metadata": {
    "collapsed": false,
    "slideshow": {
     "slide_type": "subslide"
    }
   },
   "outputs": [
    {
     "data": {
      "text/plain": [
       "[-I, I]"
      ]
     },
     "execution_count": 5,
     "metadata": {},
     "output_type": "execute_result"
    }
   ],
   "source": [
    "# Solve equations\n",
    "\n",
    "from sympy import solve, Symbol\n",
    "x = Symbol('x')\n",
    "solve(x**2 + 1)\n"
   ]
  },
  {
   "cell_type": "code",
   "execution_count": 7,
   "metadata": {
    "collapsed": false
   },
   "outputs": [
    {
     "name": "stdout",
     "output_type": "stream",
     "text": [
      "Enter the inequality to solve: x*2 + 1 > 0\n",
      "[(-1/2, oo)]\n"
     ]
    }
   ],
   "source": [
    "# Solve inequalities\n",
    "'''\n",
    "isolve.py\n",
    "\n",
    "Single variable inequality solver\n",
    "'''\n",
    "\n",
    "from sympy import Symbol, sympify, SympifyError\n",
    "from sympy import solve_poly_inequality, solve_rational_inequalities\n",
    "from sympy import solve_univariate_inequality, Poly\n",
    "from sympy.core.relational import Relational, Equality\n",
    "\n",
    "def isolve(ineq_obj):\n",
    "    x = Symbol('x')\n",
    "\n",
    "    expr = ineq_obj.lhs\n",
    "    rel = ineq_obj.rel_op\n",
    "    \n",
    "    if expr.is_polynomial():\n",
    "        p = Poly(expr, x)\n",
    "        return solve_poly_inequality(p, rel)\n",
    "    elif expr.is_rational_function():\n",
    "        p1, p2 = expr.as_numer_denom()\n",
    "        num  = Poly(p1)\n",
    "        denom = Poly(p2)\n",
    "        return solve_rational_inequalities([[((num, denom), rel)]])\n",
    "    else:\n",
    "        return solve_univariate_inequality(ineq_obj , x, relational=False)\n",
    "\n",
    "ineq = input('Enter the inequality to solve: ')\n",
    "try:\n",
    "    ineq_obj = sympify(ineq)\n",
    "except SympifyError:\n",
    "    print('Invalid inequality')\n",
    "else:\n",
    "    # We check if the input expression is an inequality here\n",
    "    if isinstance(ineq_obj, Relational) and not isinstance(ineq_obj, Equality):\n",
    "        print(isolve(ineq_obj))\n",
    "    else:\n",
    "        print('Invalid inequality')"
   ]
  },
  {
   "cell_type": "code",
   "execution_count": 10,
   "metadata": {
    "collapsed": false,
    "slideshow": {
     "slide_type": "subslide"
    }
   },
   "outputs": [
    {
     "data": {
      "text/plain": [
       "1"
      ]
     },
     "execution_count": 10,
     "metadata": {},
     "output_type": "execute_result"
    }
   ],
   "source": [
    "# Limits\n",
    "\n",
    "from sympy import Symbol, Limit, sin\n",
    "x = Symbol('x')\n",
    "Limit(sin(x)/x, x, 0).doit()\n",
    "\n",
    "\n"
   ]
  },
  {
   "cell_type": "code",
   "execution_count": 13,
   "metadata": {
    "collapsed": false,
    "slideshow": {
     "slide_type": "subslide"
    }
   },
   "outputs": [
    {
     "data": {
      "image/png": "[encoded data removed]",
      "text/latex": [
       "$$\\left(\\frac{\\left(2 x + 1\\right) \\cos{\\left (x \\right )}}{\\sin{\\left (x \\right )}} + 2 \\log{\\left (\\sin{\\left (x \\right )} \\right )}\\right) \\sin^{2 x + 1}{\\left (x \\right )}$$"
      ],
      "text/plain": [
       "⎛(2⋅x + 1)⋅cos(x)                ⎞    2⋅x + 1   \n",
       "⎜──────────────── + 2⋅log(sin(x))⎟⋅sin       (x)\n",
       "⎝     sin(x)                     ⎠              "
      ]
     },
     "execution_count": 13,
     "metadata": {},
     "output_type": "execute_result"
    }
   ],
   "source": [
    "# Derivative\n",
    "\n",
    "from sympy import Symbol, Derivative, sin, init_printing\n",
    "x = Symbol('x')\n",
    "init_printing()\n",
    "Derivative(sin(x)**(2*x+1), x).doit()"
   ]
  },
  {
   "cell_type": "code",
   "execution_count": 15,
   "metadata": {
    "collapsed": false,
    "slideshow": {
     "slide_type": "subslide"
    }
   },
   "outputs": [
    {
     "data": {
      "image/png": "[encoded data removed]",
      "text/latex": [
       "$$\\frac{2 x^{\\frac{3}{2}}}{3} - \\cos{\\left (x \\right )}$$"
      ],
      "text/plain": [
       "   3/2         \n",
       "2⋅x            \n",
       "────── - cos(x)\n",
       "  3            "
      ]
     },
     "execution_count": 15,
     "metadata": {},
     "output_type": "execute_result"
    }
   ],
   "source": [
    "# Indefinite integral\n",
    "\n",
    "from sympy import Symbol, Integral, sqrt, sin, init_printing\n",
    "x = Symbol('x')\n",
    "init_printing()\n",
    "Integral(sin(x) + sqrt(x)).doit()"
   ]
  },
  {
   "cell_type": "code",
   "execution_count": 16,
   "metadata": {
    "collapsed": false,
    "slideshow": {
     "slide_type": "fragment"
    }
   },
   "outputs": [
    {
     "data": {
      "image/png": "[encoded data removed]",
      "text/latex": [
       "$$\\int_{0}^{2} \\sqrt{x}\\, dx$$"
      ],
      "text/plain": [
       "2      \n",
       "⌠      \n",
       "⎮ √x dx\n",
       "⌡      \n",
       "0      "
      ]
     },
     "execution_count": 16,
     "metadata": {},
     "output_type": "execute_result"
    }
   ],
   "source": [
    "# Definite integral\n",
    "\n",
    "from sympy import Symbol, Integral, sqrt\n",
    "x = Symbol('x')\n",
    "Integral(sqrt(x), (x, 0, 2)).doit()"
   ]
  }
 ],
 "metadata": {
  "kernelspec": {
   "display_name": "Python 3",
   "language": "python",
   "name": "python3"
  },
  "language_info": {
   "codemirror_mode": {
    "name": "ipython",
    "version": 3
   },
   "file_extension": ".py",
   "mimetype": "text/x-python",
   "name": "python",
   "nbconvert_exporter": "python",
   "pygments_lexer": "ipython3",
   "version": "3.5.1"
  },
  "widgets": {
   "state": {},
   "version": "1.0.0"
  }
 },
 "nbformat": 4,
 "nbformat_minor": 0
}
